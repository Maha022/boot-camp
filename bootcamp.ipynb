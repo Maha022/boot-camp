{
  "nbformat": 4,
  "nbformat_minor": 0,
  "metadata": {
    "colab": {
      "name": "bootcamp.ipynb",
      "provenance": [],
      "collapsed_sections": [],
      "authorship_tag": "ABX9TyOqF8TrjTLVQnffSs88SQED",
      "include_colab_link": true
    },
    "kernelspec": {
      "name": "python3",
      "display_name": "Python 3"
    },
    "language_info": {
      "name": "python"
    }
  },
  "cells": [
    {
      "cell_type": "markdown",
      "metadata": {
        "id": "view-in-github",
        "colab_type": "text"
      },
      "source": [
        "<a href=\"https://colab.research.google.com/github/Maha022/boot-camp/blob/main/bootcamp.ipynb\" target=\"_parent\"><img src=\"https://colab.research.google.com/assets/colab-badge.svg\" alt=\"Open In Colab\"/></a>"
      ]
    },
    {
      "cell_type": "code",
      "metadata": {
        "colab": {
          "base_uri": "https://localhost:8080/"
        },
        "id": "2-jPzJsagbA-",
        "outputId": "8e4f3e17-eae2-48f7-8780-b35c0490e57b"
      },
      "source": [
        "\n",
        "import requests\n",
        "\n",
        "from datetime import datetime\n",
        "\n",
        "api_key = 'df314c8924c28d9aa14b72e109cf4c46'\n",
        "location = input(\"Enter the city name:\") \n",
        "\n",
        "complete_api_link = \"https://api.openweathermap.org/data/2.5/weather?q=\"+location+\"&appid=\"+api_key \n",
        "api_link = requests.get(complete_api_link) \n",
        "api_data = api_link.json() \n",
        "\n",
        "#create variables to store and display data\n",
        "temp_city = ((api_data['main']['temp']) -273.15) \n",
        "weather_desc = api_data['weather'][0]['description'] \n",
        "hmdt = api_data['main']['humidity'] \n",
        "wind_spd = api_data['wind']['speed'] \n",
        "date_time = datetime.now().strftime(\"%d %b %Y | %I:%M:%S %p\") \n",
        "\n",
        "print(\"-------------------------------------------------------\") \n",
        "print(\"Weather Stats for - {}  || {}\".format(location.upper(),date_time))\n",
        "print(\"-------------------------------------------------------\") \n",
        "\n",
        "\n",
        "print(\"Current temperature is: {:.2f} deg C\".format(temp_city))\n",
        "print(\"Current weather desc  :\",weather_desc)\n",
        "print(\"Current Humidity      :\",hmdt,'%') \n",
        "print(\"Current wind speed    :\",wind_spd,'kmph')\n"
      ],
      "execution_count": 1,
      "outputs": [
        {
          "output_type": "stream",
          "text": [
            "Enter the city name:chennai\n",
            "-------------------------------------------------------\n",
            "Weather Stats for - CHENNAI  || 23 Jun 2021 | 01:33:58 PM\n",
            "-------------------------------------------------------\n",
            "Current temperature is: 30.54 deg C\n",
            "Current weather desc  : haze\n",
            "Current Humidity      : 81 %\n",
            "Current wind speed    : 2.24 kmph\n"
          ],
          "name": "stdout"
        }
      ]
    },
    {
      "cell_type": "code",
      "metadata": {
        "id": "Hx2gCfbB3wF4"
      },
      "source": [
        ""
      ],
      "execution_count": null,
      "outputs": []
    },
    {
      "cell_type": "code",
      "metadata": {
        "id": "wVzsXjM6zz8J"
      },
      "source": [
        ""
      ],
      "execution_count": null,
      "outputs": []
    }
  ]
}